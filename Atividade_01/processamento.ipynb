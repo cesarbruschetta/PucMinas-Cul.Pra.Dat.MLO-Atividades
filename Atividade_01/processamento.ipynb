{
 "cells": [
  {
   "cell_type": "markdown",
   "metadata": {},
   "source": [
    "# Processamento"
   ]
  },
  {
   "cell_type": "code",
   "execution_count": null,
   "metadata": {},
   "outputs": [],
   "source": [
    "!pip install pydeequ"
   ]
  },
  {
   "cell_type": "code",
   "execution_count": null,
   "metadata": {},
   "outputs": [],
   "source": [
    "from pyspark import SparkContext as sc\n",
    "from pyspark.sql import SparkSession\n",
    "spark = SparkSession.builder.appName(\"aula\").config(\"spark.jars\", \"/content/deequ-1.0.5.jar\").master(\"local[*]\").getOrCreate()\n",
    "spark"
   ]
  },
  {
   "cell_type": "code",
   "execution_count": null,
   "metadata": {},
   "outputs": [],
   "source": [
    "import pydeequ\n",
    "from pyspark.sql import SparkSession, Row\n",
    "from pydeequ.checks import *\n",
    "from pydeequ.verification import *"
   ]
  },
  {
   "cell_type": "code",
   "execution_count": null,
   "metadata": {},
   "outputs": [],
   "source": [
    "check = Check(spark, CheckLevel.Warning, \"Review Check\")\n",
    "\n",
    "checkResult = VerificationSuite(spark) \\\n",
    "    .onData(df) \\\n",
    "    .addCheck(\n",
    "        check \\\n",
    "        .haveAnyCompleteness(\"sepal_length\", lambda x: 4.3 < x < 7.9) \\\n",
    "        .haveAnyCompleteness(\"sepal_width\", lambda x: 2.0 < x < 4.4) \\\n",
    "        .haveAnyCompleteness(\"petal_length\", lambda x: 1.0 < x < 6.9) \\\n",
    "        .haveAnyCompleteness(\"petal_width\", lambda x: 0.1 < x < 2.5) \\\n",
    "        .haveAnyCompleteness(\"classEncoder\", lambda x: 0 < x < 2) \\\n",
    "        .isContainedIn(\"class\", ['Iris-setosa', 'Iris-versicolor', 'Iris-virginica'])\n",
    "    ) \\\n",
    "    .run()\n"
   ]
  },
  {
   "cell_type": "code",
   "execution_count": null,
   "metadata": {},
   "outputs": [],
   "source": []
  },
  {
   "cell_type": "code",
   "execution_count": null,
   "metadata": {},
   "outputs": [],
   "source": [
    "checkResult_df = VerificationResult.checkResultsAsDataFrame(spark, checkResult)"
   ]
  },
  {
   "cell_type": "code",
   "execution_count": null,
   "metadata": {},
   "outputs": [],
   "source": []
  }
 ],
 "metadata": {
  "language_info": {
   "name": "python"
  },
  "orig_nbformat": 4
 },
 "nbformat": 4,
 "nbformat_minor": 2
}
